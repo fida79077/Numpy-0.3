{
  "nbformat": 4,
  "nbformat_minor": 0,
  "metadata": {
    "colab": {
      "provenance": []
    },
    "kernelspec": {
      "name": "python3",
      "display_name": "Python 3"
    },
    "language_info": {
      "name": "python"
    }
  },
  "cells": [
    {
      "cell_type": "markdown",
      "source": [
        "**Fancy Indexing**"
      ],
      "metadata": {
        "id": "08uEEmOHu0q_"
      }
    },
    {
      "cell_type": "code",
      "execution_count": null,
      "metadata": {
        "colab": {
          "base_uri": "https://localhost:8080/"
        },
        "id": "hzan2TPTt5E5",
        "outputId": "9439273b-cc45-40f2-fa2f-269bba839cf5"
      },
      "outputs": [
        {
          "output_type": "stream",
          "name": "stdout",
          "text": [
            "5\n"
          ]
        }
      ],
      "source": [
        "import numpy as np\n",
        "\n",
        "a = np.array([[[1,3,4,5,5],[12,22,45,77,66]],[[1,14,25,17,88],[33,44,55,66,77]]])\n",
        "\n",
        "print(a[0,0,3])"
      ]
    },
    {
      "cell_type": "code",
      "execution_count": null,
      "metadata": {
        "colab": {
          "base_uri": "https://localhost:8080/"
        },
        "outputId": "90b818ce-e04d-4282-a4bc-cc369e0372bb",
        "id": "4gjpVvmvuXVB"
      },
      "outputs": [
        {
          "output_type": "stream",
          "name": "stdout",
          "text": [
            "[5]\n"
          ]
        }
      ],
      "source": [
        "import numpy as np\n",
        "\n",
        "a = np.array([[[1,3,4,5,5],[12,22,45,77,66]],[[1,14,25,17,88],[33,44,55,66,77]]])\n",
        "\n",
        "print(a[[0],[0],[3]])"
      ]
    },
    {
      "cell_type": "code",
      "execution_count": null,
      "metadata": {
        "colab": {
          "base_uri": "https://localhost:8080/"
        },
        "outputId": "75287dc0-f864-4290-ec5f-96932eb27311",
        "id": "kFo-cu12uhlP"
      },
      "outputs": [
        {
          "output_type": "stream",
          "name": "stdout",
          "text": [
            "[ 5 22 25]\n"
          ]
        }
      ],
      "source": [
        "import numpy as np\n",
        "\n",
        "a = np.array([[[1,3,4,5,5],[12,22,45,77,66]],[[1,14,25,17,88],[33,44,55,66,77]]])\n",
        "\n",
        "print(a[[0,0,1],[0,1,0],[3,1,2]])"
      ]
    },
    {
      "cell_type": "markdown",
      "source": [
        "SORTING"
      ],
      "metadata": {
        "id": "iANpdfy3woSl"
      }
    },
    {
      "cell_type": "code",
      "execution_count": null,
      "metadata": {
        "colab": {
          "base_uri": "https://localhost:8080/"
        },
        "outputId": "49285018-1f31-4df5-9037-a764a51510e4",
        "id": "Sk7UNfbqxY8j"
      },
      "outputs": [
        {
          "output_type": "stream",
          "name": "stdout",
          "text": [
            "[1 3 4 5 5]\n"
          ]
        }
      ],
      "source": [
        "import numpy as np\n",
        "\n",
        "a = np.array([1,3,4,5,5])\n",
        "\n",
        "a.sort()\n",
        "\n",
        "\n",
        "print(a)"
      ]
    },
    {
      "cell_type": "code",
      "execution_count": null,
      "metadata": {
        "colab": {
          "base_uri": "https://localhost:8080/"
        },
        "outputId": "e65e65e6-0b31-4669-d3b0-608e01d94d8c",
        "id": "f1ffa3fdxEjY"
      },
      "outputs": [
        {
          "output_type": "stream",
          "name": "stdout",
          "text": [
            "[5 5 4 3 1]\n"
          ]
        }
      ],
      "source": [
        "import numpy as np\n",
        "\n",
        "x = np.array([1,3,4,5,5])\n",
        "\n",
        "y = np.sort(x)[::-1]\n",
        "\n",
        "\n",
        "print(y)"
      ]
    },
    {
      "cell_type": "code",
      "execution_count": null,
      "metadata": {
        "colab": {
          "base_uri": "https://localhost:8080/"
        },
        "outputId": "0dec2bcc-3489-4d6f-878c-76b66274d219",
        "id": "fPqLF4R6x0Rc"
      },
      "outputs": [
        {
          "output_type": "stream",
          "name": "stdout",
          "text": [
            "[[ 1  3  4  5  5]\n",
            " [12 22 45 66 77]]\n"
          ]
        }
      ],
      "source": [
        "import numpy as np\n",
        "\n",
        "x = np.array([[1,3,4,5,5],[12,22,45,77,66]])\n",
        "\n",
        "x.sort()\n",
        "\n",
        "\n",
        "print(x)"
      ]
    },
    {
      "cell_type": "code",
      "execution_count": null,
      "metadata": {
        "colab": {
          "base_uri": "https://localhost:8080/"
        },
        "outputId": "a195f166-9f33-4261-9e4c-f4b6b340bc72",
        "id": "_3yTyMKoyQhT"
      },
      "outputs": [
        {
          "output_type": "stream",
          "name": "stdout",
          "text": [
            "[[ 1  3  4  5  5]\n",
            " [12 22 45 66 77]]\n"
          ]
        }
      ],
      "source": [
        "import numpy as np\n",
        "\n",
        "x = np.array([[1,3,4,5,5],[12,22,45,77,66]])\n",
        "\n",
        "x = np.sort(x,axis=1)\n",
        "\n",
        "\n",
        "print(x)"
      ]
    },
    {
      "cell_type": "code",
      "execution_count": null,
      "metadata": {
        "colab": {
          "base_uri": "https://localhost:8080/"
        },
        "outputId": "be77c43a-9d41-4ac6-9548-734aa1aaa625",
        "id": "WtzVAFlQyjMl"
      },
      "outputs": [
        {
          "output_type": "stream",
          "name": "stdout",
          "text": [
            "[[ 1  3  4  5  5]\n",
            " [12 22 45 77 66]]\n"
          ]
        }
      ],
      "source": [
        "import numpy as np\n",
        "\n",
        "x = np.array([[1,3,4,5,5],[12,22,45,77,66]])\n",
        "\n",
        "x = np.sort(x,axis=0)\n",
        "\n",
        "\n",
        "print(x)"
      ]
    },
    {
      "cell_type": "code",
      "execution_count": null,
      "metadata": {
        "colab": {
          "base_uri": "https://localhost:8080/"
        },
        "outputId": "4a4166ef-3dbb-4c46-af33-8aec5fb0a398",
        "id": "vpw-lXqry7en"
      },
      "outputs": [
        {
          "output_type": "stream",
          "name": "stdout",
          "text": [
            "[[[ 1  3  4  5  5]\n",
            "  [12 22 45 66 66]]\n",
            "\n",
            " [[ 1 14 25 17 88]\n",
            "  [33 44 55 77 77]]]\n"
          ]
        }
      ],
      "source": [
        "import numpy as np\n",
        "\n",
        "x = np.array([[[1,3,4,5,5],[12,22,45,77,66]],[[1,14,25,17,88],[33,44,55,66,77]]])\n",
        "\n",
        "x = np.sort(x,axis=0)\n",
        "\n",
        "\n",
        "print(x)"
      ]
    },
    {
      "cell_type": "code",
      "execution_count": null,
      "metadata": {
        "colab": {
          "base_uri": "https://localhost:8080/"
        },
        "outputId": "f5ddae38-cbe8-4cbb-b918-b95dcf806bde",
        "id": "ZAo-AlwhzNsJ"
      },
      "outputs": [
        {
          "output_type": "stream",
          "name": "stdout",
          "text": [
            "3\n",
            "[[[ 1  3  4  5  5]\n",
            "  [12 22 45 77 66]]\n",
            "\n",
            " [[ 1 14 25 17 77]\n",
            "  [33 44 55 66 88]]]\n"
          ]
        }
      ],
      "source": [
        "import numpy as np\n",
        "\n",
        "x = np.array([[[1,3,4,5,5],[12,22,45,77,66]],[[1,14,25,17,88],[33,44,55,66,77]]])\n",
        "\n",
        "print(x.ndim)\n",
        "x = np.sort(x,axis=1)\n",
        "\n",
        "\n",
        "print(x)"
      ]
    },
    {
      "cell_type": "code",
      "execution_count": null,
      "metadata": {
        "colab": {
          "base_uri": "https://localhost:8080/"
        },
        "outputId": "c6642338-78ea-4639-ee5a-7940f3d0911a",
        "id": "8md7m88J0Oel"
      },
      "outputs": [
        {
          "output_type": "stream",
          "name": "stdout",
          "text": [
            "[ 1  3 48  5 55]\n",
            "[ 1  3 48  5 55]\n",
            "[ 1  3 48  5 55]\n",
            "[ 1  3 48  5 55]\n",
            "[  1   3 465   5  55]\n",
            "[  1   3 465   5  55]\n",
            "[ 1  3 48  5 55]\n",
            "[  1   3 465   5  55]\n"
          ]
        }
      ],
      "source": [
        "#copy and view\n",
        "\n",
        "import numpy as np\n",
        "\n",
        "x = np.array([1,3,48,5,55])\n",
        "\n",
        "y = x\n",
        "\n",
        "z = x.copy()         #deep copy\n",
        "w = x.view()         #shallow copy\n",
        "\n",
        "\n",
        "print(x)\n",
        "print(y)\n",
        "print(z)\n",
        "print(w)\n",
        "\n",
        "x[2] = 465\n",
        "\n",
        "print(x)\n",
        "print(y)\n",
        "print(z)\n",
        "print(w)"
      ]
    },
    {
      "cell_type": "code",
      "source": [
        "#reshape,resize,flatten\n",
        "\n",
        "import numpy as np\n",
        "\n",
        "a = np.arange(16)\n",
        "\n",
        "\n",
        "\n",
        "\n",
        "print(a)\n",
        "\n",
        "print(a.shape)\n",
        "\n",
        "b = a.reshape(2,8)\n",
        "\n",
        "b\n",
        "\n"
      ],
      "metadata": {
        "colab": {
          "base_uri": "https://localhost:8080/"
        },
        "id": "zx02-tC00--d",
        "outputId": "4b887228-aea9-4e18-bef2-cd2970c507f6"
      },
      "execution_count": null,
      "outputs": [
        {
          "output_type": "stream",
          "name": "stdout",
          "text": [
            "[ 0  1  2  3  4  5  6  7  8  9 10 11 12 13 14 15]\n",
            "(16,)\n"
          ]
        },
        {
          "output_type": "execute_result",
          "data": {
            "text/plain": [
              "array([[ 0,  1,  2,  3,  4,  5,  6,  7],\n",
              "       [ 8,  9, 10, 11, 12, 13, 14, 15]])"
            ]
          },
          "metadata": {},
          "execution_count": 21
        }
      ]
    },
    {
      "cell_type": "code",
      "source": [
        "b = a.reshape(4,4)\n",
        "\n",
        "b"
      ],
      "metadata": {
        "colab": {
          "base_uri": "https://localhost:8080/"
        },
        "id": "BEjytSrj3m37",
        "outputId": "156363ed-3193-40e3-f7e8-c8723824c360"
      },
      "execution_count": null,
      "outputs": [
        {
          "output_type": "execute_result",
          "data": {
            "text/plain": [
              "array([[ 0,  1,  2,  3],\n",
              "       [ 4,  5,  6,  7],\n",
              "       [ 8,  9, 10, 11],\n",
              "       [12, 13, 14, 15]])"
            ]
          },
          "metadata": {},
          "execution_count": 22
        }
      ]
    },
    {
      "cell_type": "code",
      "source": [
        "\n",
        "\n",
        "import numpy as np\n",
        "\n",
        "a = np.arange(16)\n",
        "\n",
        "\n",
        "\n",
        "\n",
        "print(a)\n",
        "\n",
        "print(a.shape)\n",
        "\n",
        "b = a.reshape(4,5)\n",
        "\n",
        "b\n"
      ],
      "metadata": {
        "colab": {
          "base_uri": "https://localhost:8080/",
          "height": 245
        },
        "id": "-vZckrzL3z0x",
        "outputId": "327d63a7-7bce-43ee-b141-e000c3550783"
      },
      "execution_count": null,
      "outputs": [
        {
          "output_type": "stream",
          "name": "stdout",
          "text": [
            "[ 0  1  2  3  4  5  6  7  8  9 10 11 12 13 14 15]\n",
            "(16,)\n"
          ]
        },
        {
          "output_type": "error",
          "ename": "ValueError",
          "evalue": "cannot reshape array of size 16 into shape (4,5)",
          "traceback": [
            "\u001b[0;31m---------------------------------------------------------------------------\u001b[0m",
            "\u001b[0;31mValueError\u001b[0m                                Traceback (most recent call last)",
            "\u001b[0;32m<ipython-input-23-55d9055c85ec>\u001b[0m in \u001b[0;36m<cell line: 12>\u001b[0;34m()\u001b[0m\n\u001b[1;32m     10\u001b[0m \u001b[0mprint\u001b[0m\u001b[0;34m(\u001b[0m\u001b[0ma\u001b[0m\u001b[0;34m.\u001b[0m\u001b[0mshape\u001b[0m\u001b[0;34m)\u001b[0m\u001b[0;34m\u001b[0m\u001b[0;34m\u001b[0m\u001b[0m\n\u001b[1;32m     11\u001b[0m \u001b[0;34m\u001b[0m\u001b[0m\n\u001b[0;32m---> 12\u001b[0;31m \u001b[0mb\u001b[0m \u001b[0;34m=\u001b[0m \u001b[0ma\u001b[0m\u001b[0;34m.\u001b[0m\u001b[0mreshape\u001b[0m\u001b[0;34m(\u001b[0m\u001b[0;36m4\u001b[0m\u001b[0;34m,\u001b[0m\u001b[0;36m5\u001b[0m\u001b[0;34m)\u001b[0m\u001b[0;34m\u001b[0m\u001b[0;34m\u001b[0m\u001b[0m\n\u001b[0m\u001b[1;32m     13\u001b[0m \u001b[0;34m\u001b[0m\u001b[0m\n\u001b[1;32m     14\u001b[0m \u001b[0mb\u001b[0m\u001b[0;34m\u001b[0m\u001b[0;34m\u001b[0m\u001b[0m\n",
            "\u001b[0;31mValueError\u001b[0m: cannot reshape array of size 16 into shape (4,5)"
          ]
        }
      ]
    },
    {
      "cell_type": "code",
      "execution_count": null,
      "metadata": {
        "colab": {
          "base_uri": "https://localhost:8080/"
        },
        "outputId": "4771bb1d-f421-4e90-ef17-f1d2f0fed2d5",
        "id": "dLhaMhqp2dld"
      },
      "outputs": [
        {
          "output_type": "stream",
          "name": "stdout",
          "text": [
            "[ 0  1  2  3  4  5  6  7  8  9 10 11 12 13 14 15]\n",
            "(16,)\n"
          ]
        },
        {
          "output_type": "execute_result",
          "data": {
            "text/plain": [
              "array([[ 0,  1,  2,  3,  4],\n",
              "       [ 5,  6,  7,  8,  9],\n",
              "       [10, 11, 12, 13, 14],\n",
              "       [15,  0,  0,  0,  0]])"
            ]
          },
          "metadata": {},
          "execution_count": 26
        }
      ],
      "source": [
        "#reshape,resize,flatten\n",
        "\n",
        "import numpy as np\n",
        "\n",
        "a = np.arange(16)\n",
        "\n",
        "\n",
        "print(a)\n",
        "\n",
        "print(a.shape)\n",
        "\n",
        "b = a.resize(4,5)\n",
        "\n",
        "b\n",
        "a"
      ]
    },
    {
      "cell_type": "code",
      "source": [
        "import numpy as np\n",
        "\n",
        "a = np.arange(16)\n",
        "\n",
        "\n",
        "print(a)\n",
        "\n",
        "print(a.shape)\n",
        "\n",
        "b = a.resize(4,10)\n",
        "\n",
        "b\n",
        "a"
      ],
      "metadata": {
        "colab": {
          "base_uri": "https://localhost:8080/"
        },
        "id": "MXUA5DjF24T-",
        "outputId": "3f356da3-722e-4d6b-d677-73fddcf93f85"
      },
      "execution_count": null,
      "outputs": [
        {
          "output_type": "stream",
          "name": "stdout",
          "text": [
            "[ 0  1  2  3  4  5  6  7  8  9 10 11 12 13 14 15]\n",
            "(16,)\n"
          ]
        },
        {
          "output_type": "execute_result",
          "data": {
            "text/plain": [
              "array([[ 0,  1,  2,  3,  4,  5,  6,  7,  8,  9],\n",
              "       [10, 11, 12, 13, 14, 15,  0,  0,  0,  0],\n",
              "       [ 0,  0,  0,  0,  0,  0,  0,  0,  0,  0],\n",
              "       [ 0,  0,  0,  0,  0,  0,  0,  0,  0,  0]])"
            ]
          },
          "metadata": {},
          "execution_count": 27
        }
      ]
    },
    {
      "cell_type": "code",
      "source": [
        "import numpy as np\n",
        "\n",
        "a = np.array([[2,3,4],[4,5,6]])\n",
        "\n",
        "\n",
        "print(a)\n",
        "\n",
        "b  = a.flatten()\n",
        "\n",
        "print(b)\n",
        "\n"
      ],
      "metadata": {
        "colab": {
          "base_uri": "https://localhost:8080/"
        },
        "id": "wW9wjnxP4IBL",
        "outputId": "d11147af-f706-4a08-88b3-a42a532296e6"
      },
      "execution_count": null,
      "outputs": [
        {
          "output_type": "stream",
          "name": "stdout",
          "text": [
            "[[2 3 4]\n",
            " [4 5 6]]\n",
            "[2 3 4 4 5 6]\n"
          ]
        }
      ]
    },
    {
      "cell_type": "code",
      "source": [],
      "metadata": {
        "id": "6TJ3FFdA6B8g"
      },
      "execution_count": null,
      "outputs": []
    },
    {
      "cell_type": "code",
      "source": [
        "import numpy as np\n",
        "\n",
        "a = np.array([[2,3,4],[4,5,6]])\n",
        "\n",
        "b = np.array([[2,3,4],[4,2,4],[4,2,4]])\n",
        "\n",
        "\n",
        "\n",
        "print(a)\n",
        "\n",
        "print('*' * 30)\n",
        "\n",
        "print(b)\n",
        "\n",
        "print('*' * 30)\n",
        "\n",
        "print(np.dot(a,b))\n",
        "\n"
      ],
      "metadata": {
        "colab": {
          "base_uri": "https://localhost:8080/"
        },
        "outputId": "1d16395a-3e92-42c1-d0a5-4f1e7d3d5d02",
        "id": "8KQ-_f3Q6CXu"
      },
      "execution_count": null,
      "outputs": [
        {
          "output_type": "stream",
          "name": "stdout",
          "text": [
            "[[2 3 4]\n",
            " [4 5 6]]\n",
            "******************************\n",
            "[[2 3 4]\n",
            " [4 2 4]\n",
            " [4 2 4]]\n",
            "******************************\n",
            "[[32 20 36]\n",
            " [52 34 60]]\n"
          ]
        }
      ]
    },
    {
      "cell_type": "code",
      "source": [],
      "metadata": {
        "id": "2WZcEFOl6dYl"
      },
      "execution_count": null,
      "outputs": []
    },
    {
      "cell_type": "code",
      "source": [
        "import numpy as np\n",
        "\n",
        "a = np.array([[[2,3,4],[4,5,6]],[[2,3,4],[4,2,4]]])\n",
        "\n",
        "b = np.array([[[2,3,4],[4,2,4],[4,2,4]],[[2,3,4],[4,5,6],[4,2,4]]])\n",
        "\n",
        "\n",
        "\n",
        "print(a)\n",
        "\n",
        "print('*' * 30)\n",
        "\n",
        "print(b)\n",
        "\n",
        "print('*' * 30)\n",
        "\n",
        "print(np.dot(a,b))\n",
        "\n"
      ],
      "metadata": {
        "colab": {
          "base_uri": "https://localhost:8080/"
        },
        "outputId": "34bb2caf-c74a-407c-fa46-cca423e69127",
        "id": "H0PIgt_f6iP9"
      },
      "execution_count": null,
      "outputs": [
        {
          "output_type": "stream",
          "name": "stdout",
          "text": [
            "[[[2 3 4]\n",
            "  [4 5 6]]\n",
            "\n",
            " [[2 3 4]\n",
            "  [4 2 4]]]\n",
            "******************************\n",
            "[[[2 3 4]\n",
            "  [4 2 4]\n",
            "  [4 2 4]]\n",
            "\n",
            " [[2 3 4]\n",
            "  [4 5 6]\n",
            "  [4 2 4]]]\n",
            "******************************\n",
            "[[[[32 20 36]\n",
            "   [32 29 42]]\n",
            "\n",
            "  [[52 34 60]\n",
            "   [52 49 70]]]\n",
            "\n",
            "\n",
            " [[[32 20 36]\n",
            "   [32 29 42]]\n",
            "\n",
            "  [[32 24 40]\n",
            "   [32 30 44]]]]\n"
          ]
        }
      ]
    },
    {
      "cell_type": "code",
      "source": [
        "import numpy as np\n",
        "\n",
        "a = np.array([[[2,3,4],[4,1,4]],[[2,1,4],[4,0,4]]])\n",
        "\n",
        "\n",
        "\n",
        "\n",
        "print(a)\n",
        "\n",
        "print('*' * 30)\n",
        "\n",
        "print(np.min(a))\n",
        "\n",
        "print(np.min(a,axis = 0))\n",
        "\n"
      ],
      "metadata": {
        "colab": {
          "base_uri": "https://localhost:8080/"
        },
        "outputId": "c9123fbd-d945-4dfa-9d90-9b4806c1d72e",
        "id": "_X7rGFgT8qKt"
      },
      "execution_count": null,
      "outputs": [
        {
          "output_type": "stream",
          "name": "stdout",
          "text": [
            "[[[2 3 4]\n",
            "  [4 1 4]]\n",
            "\n",
            " [[2 1 4]\n",
            "  [4 0 4]]]\n",
            "******************************\n",
            "0\n",
            "[[2 1 4]\n",
            " [4 0 4]]\n"
          ]
        }
      ]
    },
    {
      "cell_type": "code",
      "source": [],
      "metadata": {
        "id": "w_SglhlZ87wc"
      },
      "execution_count": null,
      "outputs": []
    },
    {
      "cell_type": "code",
      "source": [
        "import numpy as np\n",
        "\n",
        "a = np.array([[[2,3,4],[4,1,4]],[[2,1,4],[4,0,4]]])\n",
        "\n",
        "\n",
        "\n",
        "\n",
        "print(a)\n",
        "\n",
        "print('*' * 30)\n",
        "\n",
        "print(np.min(a))\n",
        "\n",
        "print(np.min(a,axis = 1))\n",
        "\n"
      ],
      "metadata": {
        "colab": {
          "base_uri": "https://localhost:8080/"
        },
        "outputId": "1cbec5ff-9d16-405f-e94b-19a56b9efb5d",
        "id": "gGpKvnoS8_bB"
      },
      "execution_count": null,
      "outputs": [
        {
          "output_type": "stream",
          "name": "stdout",
          "text": [
            "[[[2 3 4]\n",
            "  [4 1 4]]\n",
            "\n",
            " [[2 1 4]\n",
            "  [4 0 4]]]\n",
            "******************************\n",
            "0\n",
            "[[2 1 4]\n",
            " [2 0 4]]\n"
          ]
        }
      ]
    },
    {
      "cell_type": "code",
      "source": [
        "import numpy as np\n",
        "\n",
        "a = np.array([[[2,3,4],[4,1,4]],[[2,1,4],[4,0,4]]])\n",
        "\n",
        "\n",
        "\n",
        "\n",
        "print(a)\n",
        "\n",
        "print('*' * 30)\n",
        "\n",
        "print(np.min(a))\n",
        "\n",
        "print(np.min(a,axis = 2))\n",
        "\n"
      ],
      "metadata": {
        "colab": {
          "base_uri": "https://localhost:8080/"
        },
        "outputId": "fe8a76f0-e4ce-4c0b-d627-a7df1517cdf3",
        "id": "yVA_IHd_9sgd"
      },
      "execution_count": null,
      "outputs": [
        {
          "output_type": "stream",
          "name": "stdout",
          "text": [
            "[[[2 3 4]\n",
            "  [4 1 4]]\n",
            "\n",
            " [[2 1 4]\n",
            "  [4 0 4]]]\n",
            "******************************\n",
            "0\n",
            "[[2 1]\n",
            " [1 0]]\n"
          ]
        }
      ]
    },
    {
      "cell_type": "code",
      "source": [],
      "metadata": {
        "id": "mY91ujGL9wNf"
      },
      "execution_count": null,
      "outputs": []
    },
    {
      "cell_type": "code",
      "source": [
        "import numpy as np\n",
        "\n",
        "a = np.array([[[2,3,4],[4,1,4]],[[2,1,4],[4,0,4]]])\n",
        "\n",
        "\n",
        "\n",
        "\n",
        "print(a)\n",
        "\n",
        "print('*' * 30)\n",
        "\n",
        "print(np.min(a))\n",
        "\n",
        "print(np.min(a))\n",
        "print(np.max(a,axis = 2))\n",
        "\n"
      ],
      "metadata": {
        "colab": {
          "base_uri": "https://localhost:8080/"
        },
        "outputId": "150c83a2-9002-4e74-fe87-0a9b5d08276d",
        "id": "NEov6he4-hKu"
      },
      "execution_count": null,
      "outputs": [
        {
          "output_type": "stream",
          "name": "stdout",
          "text": [
            "[[[2 3 4]\n",
            "  [4 1 4]]\n",
            "\n",
            " [[2 1 4]\n",
            "  [4 0 4]]]\n",
            "******************************\n",
            "0\n",
            "0\n",
            "[[4 4]\n",
            " [4 4]]\n"
          ]
        }
      ]
    },
    {
      "cell_type": "code",
      "source": [
        "import numpy as np\n",
        "\n",
        "a = np.array([[[2,3,4],[4,1,4]],[[2,1,4],[4,0,4]]])\n",
        "\n",
        "\n",
        "\n",
        "\n",
        "print(a)\n",
        "\n",
        "print('*' * 30)\n",
        "\n",
        "print(np.min(a))\n",
        "\n",
        "print(np.mean(a,axis = 2))\n",
        "\n"
      ],
      "metadata": {
        "colab": {
          "base_uri": "https://localhost:8080/"
        },
        "outputId": "80244e38-0f8b-4897-87d9-7c701554ce2e",
        "id": "nvxn3J0y-wN_"
      },
      "execution_count": null,
      "outputs": [
        {
          "output_type": "stream",
          "name": "stdout",
          "text": [
            "[[[2 3 4]\n",
            "  [4 1 4]]\n",
            "\n",
            " [[2 1 4]\n",
            "  [4 0 4]]]\n",
            "******************************\n",
            "0\n",
            "[[3.         3.        ]\n",
            " [2.33333333 2.66666667]]\n"
          ]
        }
      ]
    },
    {
      "cell_type": "markdown",
      "source": [
        "**ARRAY JOINING**"
      ],
      "metadata": {
        "id": "KnwUhpUJ_nX7"
      }
    },
    {
      "cell_type": "code",
      "source": [
        "import numpy as np\n",
        "\n",
        "a = np.array([(3,4,2),(4,5,3)])\n",
        "\n",
        "b = np.array([(4,3,1),(5,32,0)])\n",
        "\n",
        "c = np.vstack((a,b))\n",
        "\n",
        "c"
      ],
      "metadata": {
        "colab": {
          "base_uri": "https://localhost:8080/"
        },
        "id": "eU9V_gC1_6SR",
        "outputId": "9104a963-c723-4cc7-e220-c0f69a3567ff"
      },
      "execution_count": null,
      "outputs": [
        {
          "output_type": "execute_result",
          "data": {
            "text/plain": [
              "array([[ 3,  4,  2],\n",
              "       [ 4,  5,  3],\n",
              "       [ 4,  3,  1],\n",
              "       [ 5, 32,  0]])"
            ]
          },
          "metadata": {},
          "execution_count": 1
        }
      ]
    },
    {
      "cell_type": "code",
      "source": [
        "import numpy as np\n",
        "\n",
        "a = np.array([(3,4,2),(4,5,3)])\n",
        "\n",
        "b = np.array([(4,3,1),(5,32,0)])\n",
        "\n",
        "c = np.row_stack((a,b))\n",
        "\n",
        "c"
      ],
      "metadata": {
        "colab": {
          "base_uri": "https://localhost:8080/"
        },
        "outputId": "0734a9d2-07d6-4534-960f-a6c7e378a070",
        "id": "qavkqg9DBPiZ"
      },
      "execution_count": null,
      "outputs": [
        {
          "output_type": "execute_result",
          "data": {
            "text/plain": [
              "array([[ 3,  4,  2],\n",
              "       [ 4,  5,  3],\n",
              "       [ 4,  3,  1],\n",
              "       [ 5, 32,  0]])"
            ]
          },
          "metadata": {},
          "execution_count": 3
        }
      ]
    },
    {
      "cell_type": "code",
      "source": [
        "import numpy as np\n",
        "\n",
        "a = np.array([(3,4,2),(4,5,3)])\n",
        "\n",
        "b = np.array([(4,3,1),(5,32,0)])\n",
        "\n",
        "c = np.hstack((a,b))\n",
        "\n",
        "c"
      ],
      "metadata": {
        "colab": {
          "base_uri": "https://localhost:8080/"
        },
        "outputId": "12a6052f-2553-4ab4-e531-ed053b80be87",
        "id": "r3U2LT0nBa1H"
      },
      "execution_count": null,
      "outputs": [
        {
          "output_type": "execute_result",
          "data": {
            "text/plain": [
              "array([[ 3,  4,  2,  4,  3,  1],\n",
              "       [ 4,  5,  3,  5, 32,  0]])"
            ]
          },
          "metadata": {},
          "execution_count": 4
        }
      ]
    },
    {
      "cell_type": "code",
      "source": [
        "import numpy as np\n",
        "\n",
        "a = np.array([(3,4,2),(4,5,3)])\n",
        "\n",
        "b = np.array([(4,3,1),(5,32,0)])\n",
        "\n",
        "c = np.column_stack((a,b))\n",
        "\n",
        "c"
      ],
      "metadata": {
        "colab": {
          "base_uri": "https://localhost:8080/"
        },
        "outputId": "3841c2e0-359e-44ce-e261-180470d67fed",
        "id": "1BmJNbLMBnHP"
      },
      "execution_count": null,
      "outputs": [
        {
          "output_type": "execute_result",
          "data": {
            "text/plain": [
              "array([[ 3,  4,  2,  4,  3,  1],\n",
              "       [ 4,  5,  3,  5, 32,  0]])"
            ]
          },
          "metadata": {},
          "execution_count": 6
        }
      ]
    },
    {
      "cell_type": "code",
      "source": [
        "import numpy as np\n",
        "\n",
        "a = np.array([(3,4,2),(4,5,3)])\n",
        "\n",
        "b = np.array([(4,3,1),(5,32,0)])\n",
        "\n",
        "x = np.concatenate((a,b))\n",
        "\n",
        "x\n"
      ],
      "metadata": {
        "colab": {
          "base_uri": "https://localhost:8080/"
        },
        "outputId": "ffe44b91-dac5-41da-d7ba-9e4668cc7a2d",
        "id": "nrA6s0KsBuWk"
      },
      "execution_count": null,
      "outputs": [
        {
          "output_type": "execute_result",
          "data": {
            "text/plain": [
              "array([[ 3,  4,  2],\n",
              "       [ 4,  5,  3],\n",
              "       [ 4,  3,  1],\n",
              "       [ 5, 32,  0]])"
            ]
          },
          "metadata": {},
          "execution_count": 7
        }
      ]
    },
    {
      "cell_type": "code",
      "source": [
        "import numpy as np\n",
        "\n",
        "a = np.array([(3,4,2),(4,5,3)])\n",
        "\n",
        "b = np.array([(4,3,1),(5,32,0)])\n",
        "\n",
        "x = np.concatenate((a,b),axis = 1)\n",
        "\n",
        "x\n"
      ],
      "metadata": {
        "colab": {
          "base_uri": "https://localhost:8080/"
        },
        "outputId": "a3579ca7-803c-4749-8fe3-bf4102f8fad8",
        "id": "t3CNlPyJB_Rm"
      },
      "execution_count": null,
      "outputs": [
        {
          "output_type": "execute_result",
          "data": {
            "text/plain": [
              "array([[ 3,  4,  2,  4,  3,  1],\n",
              "       [ 4,  5,  3,  5, 32,  0]])"
            ]
          },
          "metadata": {},
          "execution_count": 9
        }
      ]
    },
    {
      "cell_type": "code",
      "source": [],
      "metadata": {
        "id": "hf77bXRZCBpc"
      },
      "execution_count": null,
      "outputs": []
    }
  ]
}